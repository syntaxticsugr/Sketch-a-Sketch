{
  "cells": [
    {
      "cell_type": "code",
      "execution_count": null,
      "metadata": {
        "id": "BgKAA-KPXtF_"
      },
      "outputs": [],
      "source": [
        "! pip install -q accelerate controlnet-aux diffusers gradio==5.1.0 torch transformers"
      ]
    },
    {
      "cell_type": "code",
      "execution_count": null,
      "metadata": {
        "id": "WZRb_x3OXeDb"
      },
      "outputs": [],
      "source": [
        "from PIL import Image\n",
        "from controlnet_aux import HEDdetector\n",
        "from diffusers import (\n",
        "    ControlNetModel,\n",
        "    EulerAncestralDiscreteScheduler,\n",
        "    StableDiffusionControlNetPipeline\n",
        ")\n",
        "import gradio as gr\n",
        "import numpy as np\n",
        "import torch"
      ]
    },
    {
      "cell_type": "code",
      "execution_count": null,
      "metadata": {
        "id": "5lJpyfiDXOno"
      },
      "outputs": [],
      "source": [
        "device = torch.device('cuda' if torch.cuda.is_available() else 'cpu')\n",
        "\n",
        "controlnet = ControlNetModel.from_pretrained(\n",
        "    'vsanimator/sketch-a-sketch'\n",
        ").to(device)\n",
        "\n",
        "pipe = StableDiffusionControlNetPipeline.from_pretrained(\n",
        "    'runwayml/stable-diffusion-v1-5',\n",
        "    controlnet=controlnet\n",
        ").to(device)\n",
        "\n",
        "pipe.safety_checker = None\n",
        "pipe.scheduler = EulerAncestralDiscreteScheduler.from_config(pipe.scheduler.config)\n",
        "\n",
        "hed = HEDdetector.from_pretrained(\n",
        "    'lllyasviel/Annotators'\n",
        ").to(device)"
      ]
    },
    {
      "cell_type": "code",
      "execution_count": null,
      "metadata": {
        "id": "jQL4Howhl77q"
      },
      "outputs": [],
      "source": [
        "num_images = 3\n",
        "\n",
        "def sketch(prompt, negative_prompt, curr_sketch, seed, num_steps):\n",
        "\n",
        "    curr_sketch = curr_sketch if curr_sketch is not None else np.full((512, 512, 3), 255)\n",
        "\n",
        "    generator = torch.Generator(device=device)\n",
        "    generator.manual_seed(seed)\n",
        "\n",
        "    curr_sketch_image = Image.fromarray(curr_sketch.astype(np.uint8)).convert('L')\n",
        "\n",
        "    images = pipe(\n",
        "        prompt,\n",
        "        curr_sketch_image.convert('RGB').point(lambda p: 256 if p > 128 else 0),\n",
        "        negative_prompt=negative_prompt,\n",
        "        num_inference_steps=num_steps,\n",
        "        generator=generator,\n",
        "        controlnet_conditioning_scale=1.0\n",
        "    ).images\n",
        "\n",
        "    return images[0]\n",
        "\n",
        "def run_sketching(prompt, negative_prompt, curr_sketch, sketch_states):\n",
        "    to_return = []\n",
        "\n",
        "    curr_sketch = curr_sketch['composite']\n",
        "\n",
        "    for k in range(num_images):\n",
        "        seed = sketch_states[k][1] or np.random.randint(1000)\n",
        "        sketch_states[k][1] = seed\n",
        "\n",
        "        new_image = sketch(prompt, negative_prompt, curr_sketch, seed=seed, num_steps=20)\n",
        "        to_return.append(new_image)\n",
        "\n",
        "    curr_sketch = curr_sketch if curr_sketch is not None else np.full((512, 512, 3), 255)\n",
        "\n",
        "    hed_images = [hed(image, scribble=False) for image in to_return]\n",
        "    avg_hed = np.mean([np.array(image) for image in hed_images], axis = 0)\n",
        "    curr_sketch = np.array(curr_sketch).astype(float) / 255.\n",
        "    curr_sketch = Image.fromarray(np.uint8(1.0*((0.0*curr_sketch + 1. - 1.*(avg_hed / 255.))) * 255.))\n",
        "\n",
        "    return to_return + [curr_sketch, sketch_states]\n",
        "\n",
        "def reset(sketch_states):\n",
        "    sketch_states = [[None, None] for _ in range(num_images)]\n",
        "    return np.full((512, 512, 3), 255, dtype=np.uint8), sketch_states"
      ]
    },
    {
      "cell_type": "code",
      "execution_count": null,
      "metadata": {
        "id": "4v9b4LGNmCXz"
      },
      "outputs": [],
      "source": [
        "with gr.Blocks(title=\"Sketch-a-Sketch Demo\") as demo:\n",
        "    start_state = [[None, None] for _ in range(num_images)]\n",
        "    sketch_states = gr.State(start_state)\n",
        "\n",
        "    with gr.Row():\n",
        "        sketch_editor = gr.ImageEditor(\n",
        "            label=\"Sketch Editor\",\n",
        "            height=800,\n",
        "            type='numpy',\n",
        "            image_mode='RGB',\n",
        "            value=np.full((512, 512, 3), 255, dtype=np.uint8),\n",
        "            brush=gr.Brush(\n",
        "                default_color='black',\n",
        "                default_size=2\n",
        "            )\n",
        "        )\n",
        "        with gr.Column():\n",
        "            prompt_box = gr.Textbox(label=\"Prompt\")\n",
        "            negative_prompt_box = gr.Textbox(label=\"Negative Prompt\")\n",
        "            with gr.Row():\n",
        "                render_button = gr.Button(\"Render\", variant='primary')\n",
        "                reset_button = gr.Button(\"Reset\", variant='stop')\n",
        "            suggested_lines = gr.Image(label=\"Suggested Lines\", height=550)\n",
        "\n",
        "    with gr.Row():\n",
        "        output_images = [gr.Image(label=f\"Output Image {i+1}\", height=500) for i in range(num_images)]\n",
        "\n",
        "    render_button.click(\n",
        "        run_sketching,\n",
        "        inputs=[prompt_box, negative_prompt_box, sketch_editor, sketch_states],\n",
        "        outputs=output_images + [suggested_lines, sketch_states]\n",
        "    )\n",
        "\n",
        "    reset_button.click(reset, inputs=sketch_states, outputs=[sketch_editor, sketch_states])"
      ]
    },
    {
      "cell_type": "code",
      "execution_count": null,
      "metadata": {
        "colab": {
          "background_save": true
        },
        "id": "Z7XQZ6SYXdGz"
      },
      "outputs": [],
      "source": [
        "demo.launch(share=True, debug=True, inline=False)"
      ]
    }
  ],
  "metadata": {
    "accelerator": "GPU",
    "colab": {
      "gpuType": "T4",
      "provenance": []
    },
    "kernelspec": {
      "display_name": "Python 3",
      "name": "python3"
    },
    "language_info": {
      "name": "python"
    }
  },
  "nbformat": 4,
  "nbformat_minor": 0
}
